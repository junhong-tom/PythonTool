{
 "cells": [
  {
   "cell_type": "markdown",
   "id": "b3207e83",
   "metadata": {},
   "source": [
    "Python 套件管理 requirements.txt (python 安裝過的套件及相依的套件之紀錄檔)\n",
    "Command Line 環境中，執行  pip freeze > requirements.txt"
   ]
  },
  {
   "cell_type": "code",
   "execution_count": 3,
   "id": "53541836",
   "metadata": {},
   "outputs": [
    {
     "name": "stdout",
     "output_type": "stream",
     "text": [
      "Package                  Version\n",
      "------------------------ ---------------------\n",
      "absl-py                  0.12.0\n",
      "argon2-cffi              20.1.0\n",
      "astunparse               1.6.3\n",
      "async-generator          1.10\n",
      "attrs                    20.3.0\n",
      "backcall                 0.2.0\n",
      "bleach                   3.3.0\n",
      "cachetools               4.2.1\n",
      "certifi                  2020.12.5\n",
      "cffi                     1.14.5\n",
      "chardet                  4.0.0\n",
      "colorama                 0.4.4\n",
      "cycler                   0.10.0\n",
      "dataclasses              0.8\n",
      "decorator                5.0.6\n",
      "defusedxml               0.7.1\n",
      "dill                     0.3.3\n",
      "entrypoints              0.3\n",
      "flatbuffers              1.12\n",
      "future                   0.18.2\n",
      "gast                     0.3.3\n",
      "google-auth              1.28.0\n",
      "google-auth-oauthlib     0.4.3\n",
      "google-pasta             0.2.0\n",
      "googleapis-common-protos 1.53.0\n",
      "graphviz                 0.16\n",
      "grpcio                   1.32.0\n",
      "h5py                     2.10.0\n",
      "idna                     2.10\n",
      "importlib-metadata       3.10.1\n",
      "importlib-resources      5.1.2\n",
      "ipykernel                5.5.3\n",
      "ipython                  7.16.1\n",
      "ipython-genutils         0.2.0\n",
      "ipywidgets               7.6.3\n",
      "jedi                     0.18.0\n",
      "Jinja2                   2.11.3\n",
      "jsonschema               3.2.0\n",
      "jupyter                  1.0.0\n",
      "jupyter-client           6.1.12\n",
      "jupyter-console          6.4.0\n",
      "jupyter-core             4.7.1\n",
      "jupyterlab-pygments      0.1.2\n",
      "jupyterlab-widgets       1.0.0\n",
      "Keras                    2.4.3\n",
      "Keras-Preprocessing      1.1.2\n",
      "kiwisolver               1.3.1\n",
      "Markdown                 3.3.4\n",
      "MarkupSafe               1.1.1\n",
      "matplotlib               3.3.4\n",
      "matplotlylib             0.1.0\n",
      "mistune                  0.8.4\n",
      "nbclient                 0.5.3\n",
      "nbconvert                6.0.7\n",
      "nbformat                 5.1.3\n",
      "nest-asyncio             1.5.1\n",
      "notebook                 6.3.0\n",
      "numpy                    1.19.5\n",
      "oauthlib                 3.1.0\n",
      "opencv-python            4.5.1.48\n",
      "opt-einsum               3.3.0\n",
      "packaging                20.9\n",
      "pandas                   1.1.5\n",
      "pandocfilters            1.4.3\n",
      "parso                    0.8.2\n",
      "pickleshare              0.7.5\n",
      "Pillow                   8.2.0\n",
      "pip                      21.0.1\n",
      "plotly                   4.14.3\n",
      "prometheus-client        0.10.1\n",
      "promise                  2.3\n",
      "prompt-toolkit           3.0.18\n",
      "protobuf                 3.15.6\n",
      "pyasn1                   0.4.8\n",
      "pyasn1-modules           0.2.8\n",
      "pycparser                2.20\n",
      "pydot                    1.4.2\n",
      "pydot-ng                 2.0.0\n",
      "pydotplus                2.0.2\n",
      "Pygments                 2.8.1\n",
      "pyparsing                2.4.7\n",
      "pyrsistent               0.17.3\n",
      "python-dateutil          2.8.1\n",
      "pytz                     2021.1\n",
      "pywin32                  300\n",
      "pywinpty                 0.5.7\n",
      "PyYAML                   5.4.1\n",
      "pyzmq                    22.0.3\n",
      "qtconsole                5.0.3\n",
      "QtPy                     1.9.0\n",
      "requests                 2.25.1\n",
      "requests-oauthlib        1.3.0\n",
      "retrying                 1.3.3\n",
      "rsa                      4.7.2\n",
      "scipy                    1.5.4\n",
      "Send2Trash               1.5.0\n",
      "setuptools               44.1.1\n",
      "six                      1.15.0\n",
      "tensorboard              2.4.1\n",
      "tensorboard-plugin-wit   1.8.0\n",
      "tensorflow               2.4.1\n",
      "tensorflow-datasets      4.2.0\n",
      "tensorflow-estimator     2.4.0\n",
      "tensorflow-metadata      0.30.0\n",
      "termcolor                1.1.0\n",
      "terminado                0.9.4\n",
      "testpath                 0.4.4\n",
      "tfds-nightly             4.2.0.dev202104250106\n",
      "torch                    1.8.1+cu111\n",
      "tornado                  6.1\n",
      "tqdm                     4.60.0\n",
      "traitlets                4.3.3\n",
      "typing-extensions        3.7.4.3\n",
      "unrar                    0.4\n",
      "urllib3                  1.26.4\n",
      "wcwidth                  0.2.5\n",
      "webencodings             0.5.1\n",
      "Werkzeug                 1.0.1\n",
      "wheel                    0.36.2\n",
      "widgetsnbextension       3.5.1\n",
      "wrapt                    1.12.1\n",
      "zipp                     3.4.1\n"
     ]
    },
    {
     "name": "stderr",
     "output_type": "stream",
     "text": [
      "WARNING: You are using pip version 21.0.1; however, version 21.1.1 is available.\n",
      "You should consider upgrading via the 'c:\\users\\tom\\pycharmprojects\\jupyternotebook\\venv\\scripts\\python.exe -m pip install --upgrade pip' command.\n"
     ]
    }
   ],
   "source": [
    "# 在 jupyter notebook 上, 查看安裝那些套件。  在終端機環境中只要輸入 pip list\n",
    "!pip list"
   ]
  },
  {
   "cell_type": "code",
   "execution_count": 4,
   "id": "9d0a23ac",
   "metadata": {},
   "outputs": [
    {
     "name": "stdout",
     "output_type": "stream",
     "text": [
      " 磁碟區 C 中的磁碟是 OS\n",
      " 磁碟區序號:  1A3C-9264\n",
      "\n",
      " C:\\Users\\Tom\\PycharmProjects\\JupyterNoteBook\\PythonTools\\RequirePackages 的目錄\n",
      "\n",
      "2021/05/19  下午 04:29    <DIR>          .\n",
      "2021/05/19  下午 04:29    <DIR>          ..\n",
      "2021/05/19  下午 04:19    <DIR>          .ipynb_checkpoints\n",
      "2021/05/19  下午 04:17                 0 FreezeRequirements.py\n",
      "2021/05/19  下午 04:29             6,703 Untitled.ipynb\n",
      "               2 個檔案           6,703 位元組\n",
      "               3 個目錄  363,631,439,872 位元組可用\n"
     ]
    }
   ],
   "source": [
    "# 在 jupyter notebook 上, 查看本機上有哪些檔案。  在終端機環境中只要輸入 dir\n",
    "!dir"
   ]
  },
  {
   "cell_type": "code",
   "execution_count": 5,
   "id": "44c24be5",
   "metadata": {},
   "outputs": [
    {
     "name": "stdout",
     "output_type": "stream",
     "text": [
      "1234\n"
     ]
    }
   ],
   "source": [
    "# 在 jupyter notebook 上, 查看本機上的檔案。  在終端機環境中只要輸入 type 檔案名稱\n",
    "!type FreezeRequirements.py"
   ]
  },
  {
   "cell_type": "code",
   "execution_count": 6,
   "id": "9936e917",
   "metadata": {},
   "outputs": [],
   "source": [
    "# 在 jupyter notebook 上, 查看本機上的檔案。  在終端機環境中只要輸入 pip freeze > requirements.txt\n",
    "!pip freeze > requirements.txt"
   ]
  },
  {
   "cell_type": "code",
   "execution_count": 7,
   "id": "880b86c0",
   "metadata": {},
   "outputs": [
    {
     "name": "stdout",
     "output_type": "stream",
     "text": [
      " 磁碟區 C 中的磁碟是 OS\n",
      " 磁碟區序號:  1A3C-9264\n",
      "\n",
      " C:\\Users\\Tom\\PycharmProjects\\JupyterNoteBook\\PythonTools\\RequirePackages 的目錄\n",
      "\n",
      "2021/05/19  下午 04:36    <DIR>          .\n",
      "2021/05/19  下午 04:36    <DIR>          ..\n",
      "2021/05/19  下午 04:19    <DIR>          .ipynb_checkpoints\n",
      "2021/05/19  下午 04:32                 4 FreezeRequirements.py\n",
      "2021/05/19  下午 04:36             2,257 requirements.txt\n",
      "2021/05/19  下午 04:33             7,890 Untitled.ipynb\n",
      "               3 個檔案          10,151 位元組\n",
      "               3 個目錄  363,626,258,432 位元組可用\n"
     ]
    }
   ],
   "source": [
    "# 在 jupyter notebook 上, 查看本機上的檔案，是否有 requirements.txt 的產生  在終端機環境中只要輸入 dir\n",
    "!dir"
   ]
  },
  {
   "cell_type": "code",
   "execution_count": 8,
   "id": "256f43a3",
   "metadata": {},
   "outputs": [
    {
     "name": "stdout",
     "output_type": "stream",
     "text": [
      "absl-py==0.12.0\n",
      "argon2-cffi==20.1.0\n",
      "astunparse==1.6.3\n",
      "async-generator==1.10\n",
      "attrs==20.3.0\n",
      "backcall==0.2.0\n",
      "bleach==3.3.0\n",
      "cachetools==4.2.1\n",
      "certifi==2020.12.5\n",
      "cffi==1.14.5\n",
      "chardet==4.0.0\n",
      "colorama==0.4.4\n",
      "cycler==0.10.0\n",
      "dataclasses==0.8\n",
      "decorator==5.0.6\n",
      "defusedxml==0.7.1\n",
      "dill==0.3.3\n",
      "entrypoints==0.3\n",
      "flatbuffers==1.12\n",
      "future==0.18.2\n",
      "gast==0.3.3\n",
      "google-auth==1.28.0\n",
      "google-auth-oauthlib==0.4.3\n",
      "google-pasta==0.2.0\n",
      "googleapis-common-protos==1.53.0\n",
      "graphviz==0.16\n",
      "grpcio==1.32.0\n",
      "h5py==2.10.0\n",
      "idna==2.10\n",
      "importlib-metadata==3.10.1\n",
      "importlib-resources==5.1.2\n",
      "ipykernel==5.5.3\n",
      "ipython==7.16.1\n",
      "ipython-genutils==0.2.0\n",
      "ipywidgets==7.6.3\n",
      "jedi==0.18.0\n",
      "Jinja2==2.11.3\n",
      "jsonschema==3.2.0\n",
      "jupyter==1.0.0\n",
      "jupyter-client==6.1.12\n",
      "jupyter-console==6.4.0\n",
      "jupyter-core==4.7.1\n",
      "jupyterlab-pygments==0.1.2\n",
      "jupyterlab-widgets==1.0.0\n",
      "Keras==2.4.3\n",
      "Keras-Preprocessing==1.1.2\n",
      "kiwisolver==1.3.1\n",
      "Markdown==3.3.4\n",
      "MarkupSafe==1.1.1\n",
      "matplotlib==3.3.4\n",
      "matplotlylib==0.1.0\n",
      "mistune==0.8.4\n",
      "nbclient==0.5.3\n",
      "nbconvert==6.0.7\n",
      "nbformat==5.1.3\n",
      "nest-asyncio==1.5.1\n",
      "notebook==6.3.0\n",
      "numpy==1.19.5\n",
      "oauthlib==3.1.0\n",
      "opencv-python==4.5.1.48\n",
      "opt-einsum==3.3.0\n",
      "packaging==20.9\n",
      "pandas==1.1.5\n",
      "pandocfilters==1.4.3\n",
      "parso==0.8.2\n",
      "pickleshare==0.7.5\n",
      "Pillow==8.2.0\n",
      "plotly==4.14.3\n",
      "prometheus-client==0.10.1\n",
      "promise==2.3\n",
      "prompt-toolkit==3.0.18\n",
      "protobuf==3.15.6\n",
      "pyasn1==0.4.8\n",
      "pyasn1-modules==0.2.8\n",
      "pycparser==2.20\n",
      "pydot==1.4.2\n",
      "pydot-ng==2.0.0\n",
      "pydotplus==2.0.2\n",
      "Pygments==2.8.1\n",
      "pyparsing==2.4.7\n",
      "pyrsistent==0.17.3\n",
      "python-dateutil==2.8.1\n",
      "pytz==2021.1\n",
      "pywin32==300\n",
      "pywinpty==0.5.7\n",
      "PyYAML==5.4.1\n",
      "pyzmq==22.0.3\n",
      "qtconsole==5.0.3\n",
      "QtPy==1.9.0\n",
      "requests==2.25.1\n",
      "requests-oauthlib==1.3.0\n",
      "retrying==1.3.3\n",
      "rsa==4.7.2\n",
      "scipy==1.5.4\n",
      "Send2Trash==1.5.0\n",
      "six==1.15.0\n",
      "tensorboard==2.4.1\n",
      "tensorboard-plugin-wit==1.8.0\n",
      "tensorflow==2.4.1\n",
      "tensorflow-datasets==4.2.0\n",
      "tensorflow-estimator==2.4.0\n",
      "tensorflow-metadata==0.30.0\n",
      "termcolor==1.1.0\n",
      "terminado==0.9.4\n",
      "testpath==0.4.4\n",
      "tfds-nightly==4.2.0.dev202104250106\n",
      "torch==1.8.1+cu111\n",
      "tornado==6.1\n",
      "tqdm==4.60.0\n",
      "traitlets==4.3.3\n",
      "typing-extensions==3.7.4.3\n",
      "unrar==0.4\n",
      "urllib3==1.26.4\n",
      "wcwidth==0.2.5\n",
      "webencodings==0.5.1\n",
      "Werkzeug==1.0.1\n",
      "widgetsnbextension==3.5.1\n",
      "wrapt==1.12.1\n",
      "zipp==3.4.1\n"
     ]
    }
   ],
   "source": [
    "# 在 jupyter notebook 上, 查看本機上的檔案 requirements.txt 的內容  在終端機環境中只要輸入 type requirements.txt\n",
    "!type requirements.txt"
   ]
  },
  {
   "cell_type": "code",
   "execution_count": 9,
   "id": "85f86972",
   "metadata": {},
   "outputs": [],
   "source": [
    "import os"
   ]
  },
  {
   "cell_type": "code",
   "execution_count": 10,
   "id": "4ad08c04",
   "metadata": {},
   "outputs": [
    {
     "data": {
      "text/plain": [
       "0"
      ]
     },
     "execution_count": 10,
     "metadata": {},
     "output_type": "execute_result"
    }
   ],
   "source": [
    "command_string = r'dir'\n",
    "os.system(command_string)"
   ]
  },
  {
   "cell_type": "code",
   "execution_count": 32,
   "id": "fee496b2",
   "metadata": {},
   "outputs": [],
   "source": [
    "from subprocess import check_output as Command\n",
    "# 執行外部明令，並獲取他的輸出"
   ]
  },
  {
   "cell_type": "code",
   "execution_count": 29,
   "id": "cbdbcacd",
   "metadata": {},
   "outputs": [
    {
     "name": "stdout",
     "output_type": "stream",
     "text": [
      "b' \\xba\\xcf\\xba\\xd0\\xb0\\xcf C \\xa4\\xa4\\xaa\\xba\\xba\\xcf\\xba\\xd0\\xacO OS\\r\\n \\xba\\xcf\\xba\\xd0\\xb0\\xcf\\xa7\\xc7\\xb8\\xb9:  1A3C-9264\\r\\n\\r\\n C:\\\\Users\\\\Tom\\\\PycharmProjects\\\\JupyterNoteBook\\\\PythonTools\\\\RequirePackages \\xaa\\xba\\xa5\\xd8\\xbf\\xfd\\r\\n\\r\\n2021/05/19  \\xa4U\\xa4\\xc8 10:39    <DIR>          .\\r\\n2021/05/19  \\xa4U\\xa4\\xc8 10:39    <DIR>          ..\\r\\n2021/05/19  \\xa4U\\xa4\\xc8 04:19    <DIR>          .ipynb_checkpoints\\r\\n2021/05/19  \\xa4U\\xa4\\xc8 04:32                 4 FreezeRequirements.py\\r\\n2021/05/19  \\xa4U\\xa4\\xc8 04:36             2,257 requirements.txt\\r\\n2021/05/19  \\xa4U\\xa4\\xc8 10:39            17,882 Untitled.ipynb\\r\\n               3 \\xad\\xd3\\xc0\\xc9\\xae\\xd7          20,143 \\xa6\\xec\\xa4\\xb8\\xb2\\xd5\\r\\n               3 \\xad\\xd3\\xa5\\xd8\\xbf\\xfd  363,180,257,280 \\xa6\\xec\\xa4\\xb8\\xb2\\xd5\\xa5i\\xa5\\xce\\r\\n'\n",
      " 磁碟區 C 中的磁碟是 OS\r\n",
      " 磁碟區序號:  1A3C-9264\r\n",
      "\r\n",
      " C:\\Users\\Tom\\PycharmProjects\\JupyterNoteBook\\PythonTools\\RequirePackages 的目錄\r\n",
      "\r\n",
      "2021/05/19  下午 10:39    <DIR>          .\r\n",
      "2021/05/19  下午 10:39    <DIR>          ..\r\n",
      "2021/05/19  下午 04:19    <DIR>          .ipynb_checkpoints\r\n",
      "2021/05/19  下午 04:32                 4 FreezeRequirements.py\r\n",
      "2021/05/19  下午 04:36             2,257 requirements.txt\r\n",
      "2021/05/19  下午 10:39            17,882 Untitled.ipynb\r\n",
      "               3 個檔案          20,143 位元組\r\n",
      "               3 個目錄  363,180,257,280 位元組可用\r\n",
      "\n"
     ]
    }
   ],
   "source": [
    "batcmd=\"dir\"\n",
    "result = Command(batcmd, shell=True)\n",
    "print(result)\n",
    "\n",
    "# 終端機的編碼格式 cp950 , 可以試試對照其他的格式如 windows-1252， utf-8 等 看有甚麼差異\n",
    "print(result.decode(encoding='cp950')) "
   ]
  },
  {
   "cell_type": "code",
   "execution_count": 36,
   "id": "7484aefa",
   "metadata": {},
   "outputs": [
    {
     "name": "stdout",
     "output_type": "stream",
     "text": [
      "b'absl-py==0.12.0\\r\\nargon2-cffi==20.1.0\\r\\nastunparse==1.6.3\\r\\nasync-generator==1.10\\r\\nattrs==20.3.0\\r\\nbackcall==0.2.0\\r\\nbleach==3.3.0\\r\\ncachetools==4.2.1\\r\\ncertifi==2020.12.5\\r\\ncffi==1.14.5\\r\\nchardet==4.0.0\\r\\ncolorama==0.4.4\\r\\ncycler==0.10.0\\r\\ndataclasses==0.8\\r\\ndecorator==5.0.6\\r\\ndefusedxml==0.7.1\\r\\ndill==0.3.3\\r\\nentrypoints==0.3\\r\\nflatbuffers==1.12\\r\\nfuture==0.18.2\\r\\ngast==0.3.3\\r\\ngoogle-auth==1.28.0\\r\\ngoogle-auth-oauthlib==0.4.3\\r\\ngoogle-pasta==0.2.0\\r\\ngoogleapis-common-protos==1.53.0\\r\\ngraphviz==0.16\\r\\ngrpcio==1.32.0\\r\\nh5py==2.10.0\\r\\nidna==2.10\\r\\nimportlib-metadata==3.10.1\\r\\nimportlib-resources==5.1.2\\r\\nipykernel==5.5.3\\r\\nipython==7.16.1\\r\\nipython-genutils==0.2.0\\r\\nipywidgets==7.6.3\\r\\njedi==0.18.0\\r\\nJinja2==2.11.3\\r\\njsonschema==3.2.0\\r\\njupyter==1.0.0\\r\\njupyter-client==6.1.12\\r\\njupyter-console==6.4.0\\r\\njupyter-core==4.7.1\\r\\njupyterlab-pygments==0.1.2\\r\\njupyterlab-widgets==1.0.0\\r\\nKeras==2.4.3\\r\\nKeras-Preprocessing==1.1.2\\r\\nkiwisolver==1.3.1\\r\\nMarkdown==3.3.4\\r\\nMarkupSafe==1.1.1\\r\\nmatplotlib==3.3.4\\r\\nmatplotlylib==0.1.0\\r\\nmistune==0.8.4\\r\\nnbclient==0.5.3\\r\\nnbconvert==6.0.7\\r\\nnbformat==5.1.3\\r\\nnest-asyncio==1.5.1\\r\\nnotebook==6.3.0\\r\\nnumpy==1.19.5\\r\\noauthlib==3.1.0\\r\\nopencv-python==4.5.1.48\\r\\nopt-einsum==3.3.0\\r\\npackaging==20.9\\r\\npandas==1.1.5\\r\\npandocfilters==1.4.3\\r\\nparso==0.8.2\\r\\npickleshare==0.7.5\\r\\nPillow==8.2.0\\r\\nplotly==4.14.3\\r\\nprometheus-client==0.10.1\\r\\npromise==2.3\\r\\nprompt-toolkit==3.0.18\\r\\nprotobuf==3.15.6\\r\\npyasn1==0.4.8\\r\\npyasn1-modules==0.2.8\\r\\npycparser==2.20\\r\\npydot==1.4.2\\r\\npydot-ng==2.0.0\\r\\npydotplus==2.0.2\\r\\nPygments==2.8.1\\r\\npyparsing==2.4.7\\r\\npyrsistent==0.17.3\\r\\npython-dateutil==2.8.1\\r\\npytz==2021.1\\r\\npywin32==300\\r\\npywinpty==0.5.7\\r\\nPyYAML==5.4.1\\r\\npyzmq==22.0.3\\r\\nqtconsole==5.0.3\\r\\nQtPy==1.9.0\\r\\nrequests==2.25.1\\r\\nrequests-oauthlib==1.3.0\\r\\nretrying==1.3.3\\r\\nrsa==4.7.2\\r\\nscipy==1.5.4\\r\\nSend2Trash==1.5.0\\r\\nsix==1.15.0\\r\\ntensorboard==2.4.1\\r\\ntensorboard-plugin-wit==1.8.0\\r\\ntensorflow==2.4.1\\r\\ntensorflow-datasets==4.2.0\\r\\ntensorflow-estimator==2.4.0\\r\\ntensorflow-metadata==0.30.0\\r\\ntermcolor==1.1.0\\r\\nterminado==0.9.4\\r\\ntestpath==0.4.4\\r\\ntfds-nightly==4.2.0.dev202104250106\\r\\ntorch==1.8.1+cu111\\r\\ntornado==6.1\\r\\ntqdm==4.60.0\\r\\ntraitlets==4.3.3\\r\\ntyping-extensions==3.7.4.3\\r\\nunrar==0.4\\r\\nurllib3==1.26.4\\r\\nwcwidth==0.2.5\\r\\nwebencodings==0.5.1\\r\\nWerkzeug==1.0.1\\r\\nwidgetsnbextension==3.5.1\\r\\nwrapt==1.12.1\\r\\nzipp==3.4.1\\r\\n'\n"
     ]
    }
   ],
   "source": [
    "freeze_command = r'pip freeze > requirements.txt'\n",
    "# 比較差異\n",
    "# result = Command(freeze_command, shell=True)  \n",
    "result = Command(freeze_command)\n",
    "\n",
    "# 檢視 命令執行的結果\n",
    "print(result.decode(encoding='cp950'))\n"
   ]
  },
  {
   "cell_type": "code",
   "execution_count": 49,
   "id": "01c0d31d",
   "metadata": {},
   "outputs": [
    {
     "name": "stdout",
     "output_type": "stream",
     "text": [
      "\n"
     ]
    }
   ],
   "source": [
    "# 開啟 Shell 來執行， 比較差異\n",
    "freeze_command = r'pip freeze > requirements.txt'\n",
    "result = Command(freeze_command, shell=True) \n",
    "print(result.decode(encoding='cp950'))\n",
    "# 為什麼輸出是  b''，因為回報\"輸出管導\"到 requirements.txt 檔案的結果。"
   ]
  },
  {
   "cell_type": "code",
   "execution_count": null,
   "id": "5b8c7001",
   "metadata": {},
   "outputs": [],
   "source": []
  }
 ],
 "metadata": {
  "kernelspec": {
   "display_name": "Python 3",
   "language": "python",
   "name": "python3"
  },
  "language_info": {
   "codemirror_mode": {
    "name": "ipython",
    "version": 3
   },
   "file_extension": ".py",
   "mimetype": "text/x-python",
   "name": "python",
   "nbconvert_exporter": "python",
   "pygments_lexer": "ipython3",
   "version": "3.6.8"
  }
 },
 "nbformat": 4,
 "nbformat_minor": 5
}
